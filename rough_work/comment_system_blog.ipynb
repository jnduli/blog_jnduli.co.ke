{
 "cells": [
  {
   "cell_type": "code",
   "execution_count": 1,
   "id": "e3cef019",
   "metadata": {},
   "outputs": [],
   "source": [
    "import psycopg2\n",
    "\n",
    "try:\n",
    "    conn = psycopg2.connect(\"dbname='comments' user='admin' host='localhost' password=''\")\n",
    "    cursor = conn.cursor()\n",
    "except:\n",
    "    print(\"Failed to create connection\")"
   ]
  },
  {
   "cell_type": "code",
   "execution_count": 2,
   "id": "03d0dca6",
   "metadata": {},
   "outputs": [],
   "source": [
    "delete_query = \"DROP TABLE IF EXISTS comments;\"\n",
    "schema_query = \"CREATE TABLE comments (comment_id SERIAL PRIMARY KEY, comment TEXT, date_created DATE, parent_id INT);\"\n",
    "insert_query = \"\"\"\n",
    "    INSERT INTO comments (comment_id, comment, date_created, parent_id) VALUES \n",
    "    (1, 'parent 1', '2021-01-01', NULL),\n",
    "    (2, 'parent 2', '2021-01-01', NULL),\n",
    "    (3, 'child of 1', '2021-01-02', 1),\n",
    "    (4, 'another child of 1', '2021-01-03', 1),\n",
    "    (5, 'child of 2', '2021-01-03', 2),\n",
    "    (6, 'child of 3', '2021-01-03', 3),\n",
    "    (7, 'child of 6', '2021-01-04', 6),\n",
    "    (8, 'child of 7', '2021-01-05', 7),\n",
    "    (9, 'child of 1', '2021-01-06', 1),\n",
    "    (10, 'child of 5', '2021-01-05', 5);\n",
    "    \"\"\"\n",
    "cursor.execute(delete_query)\n",
    "cursor.execute(schema_query)\n",
    "cursor.execute(insert_query)"
   ]
  },
  {
   "cell_type": "code",
   "execution_count": 3,
   "id": "dcb2d622",
   "metadata": {},
   "outputs": [
    {
     "name": "stdout",
     "output_type": "stream",
     "text": [
      "(1, 'parent 1', datetime.date(2021, 1, 1), None)\n",
      "(2, 'parent 2', datetime.date(2021, 1, 1), None)\n",
      "(3, 'child of 1', datetime.date(2021, 1, 2), 1)\n",
      "(4, 'another child of 1', datetime.date(2021, 1, 3), 1)\n",
      "(5, 'child of 2', datetime.date(2021, 1, 3), 2)\n",
      "(6, 'child of 3', datetime.date(2021, 1, 3), 3)\n",
      "(7, 'child of 6', datetime.date(2021, 1, 4), 6)\n",
      "(8, 'child of 7', datetime.date(2021, 1, 5), 7)\n",
      "(9, 'child of 1', datetime.date(2021, 1, 6), 1)\n",
      "(10, 'child of 5', datetime.date(2021, 1, 5), 5)\n"
     ]
    }
   ],
   "source": [
    "select_basic = \"SELECT * FROM comments\"\n",
    "cursor.execute(select_basic)\n",
    "rows = cursor.fetchall()\n",
    "for row in rows:\n",
    "    print(row)"
   ]
  },
  {
   "cell_type": "code",
   "execution_count": 4,
   "id": "351a1e30",
   "metadata": {},
   "outputs": [
    {
     "name": "stdout",
     "output_type": "stream",
     "text": [
      "(1, 'parent 1', datetime.date(2021, 1, 1), None)\n",
      "(2, 'parent 2', datetime.date(2021, 1, 1), None)\n",
      "(1, 'parent 1', datetime.date(2021, 1, 1), None)\n",
      "(3, 'child of 1', datetime.date(2021, 1, 2), 1)\n",
      "(4, 'another child of 1', datetime.date(2021, 1, 3), 1)\n",
      "(9, 'child of 1', datetime.date(2021, 1, 6), 1)\n",
      "(6, 'child of 3', datetime.date(2021, 1, 3), 3)\n",
      "(7, 'child of 6', datetime.date(2021, 1, 4), 6)\n",
      "(8, 'child of 7', datetime.date(2021, 1, 5), 7)\n"
     ]
    }
   ],
   "source": [
    "def run_select_query(cursor, query):\n",
    "    cursor.execute(query)\n",
    "    return cursor.fetchall()\n",
    "\n",
    "\"\"\"\n",
    "How this part would work would be: get all parents and display these. When\n",
    "someone clicks to expand the parent, we fetch the children for each.\n",
    "\"\"\"\n",
    "\n",
    "\n",
    "all_parent_queries = \"\"\"SELECT * FROM comments where parent_id IS NULL \"\"\"\n",
    "parents = run_select_query(cursor, all_parent_queries)\n",
    "for row in parents:\n",
    "    print(row)\n",
    "\n",
    "\n",
    "\n",
    "# Gets all children for comment_id 1\n",
    "cte_query = \"\"\"\n",
    "\n",
    "    WITH RECURSIVE child_comments AS (\n",
    "        SELECT * FROM comments WHERE comment_id = 1\n",
    "        UNION\n",
    "        SELECT c.comment_id, c.comment, c.date_created, c.parent_id FROM comments c\n",
    "        INNER JOIN child_comments cc ON c.parent_id = cc.comment_id\n",
    "    ) SELECT * FROM child_comments ;\n",
    "            \"\"\"\n",
    "\n",
    "rows = run_select_query(cursor, cte_query)\n",
    "\n",
    "for row in rows:\n",
    "    print(row)\n",
    "\n",
    "# TODO: \n",
    "# - investigate cycles\n",
    "# - investigate how to validate correct parent relationships\n",
    "# - how do I deal with parent deletions\n",
    "\n",
    "\n",
    "# Resources:\n",
    "# https://www.postgresql.org/docs/9.1/queries-with.html\n",
    "# https://www.citusdata.com/blog/2018/05/15/fun-with-sql-recursive-ctes/"
   ]
  },
  {
   "cell_type": "code",
   "execution_count": null,
   "id": "eed7eff3",
   "metadata": {},
   "outputs": [],
   "source": [
    "# cycle in query\n",
    "cycle_insert = \""
   ]
  },
  {
   "cell_type": "code",
   "execution_count": 20,
   "id": "666350ed",
   "metadata": {},
   "outputs": [],
   "source": [
    "cursor.close()"
   ]
  }
 ],
 "metadata": {
  "kernelspec": {
   "display_name": "Python 3",
   "language": "python",
   "name": "python3"
  },
  "language_info": {
   "codemirror_mode": {
    "name": "ipython",
    "version": 3
   },
   "file_extension": ".py",
   "mimetype": "text/x-python",
   "name": "python",
   "nbconvert_exporter": "python",
   "pygments_lexer": "ipython3",
   "version": "3.9.5"
  }
 },
 "nbformat": 4,
 "nbformat_minor": 5
}
